{
  "nbformat": 4,
  "nbformat_minor": 0,
  "metadata": {
    "colab": {
      "name": "Untitled11.ipynb",
      "provenance": [],
      "collapsed_sections": [],
      "toc_visible": true
    },
    "kernelspec": {
      "name": "python3",
      "display_name": "Python 3"
    },
    "language_info": {
      "name": "python"
    }
  },
  "cells": [
    {
      "cell_type": "markdown",
      "metadata": {
        "id": "jzGFIBnRKpeR"
      },
      "source": [
        "# Nifty Case Study"
      ]
    },
    {
      "cell_type": "code",
      "metadata": {
        "id": "z4K-MqZHKRa0"
      },
      "source": [
        "import pandas as pd \n",
        "import numpy as np\n"
      ],
      "execution_count": 2,
      "outputs": []
    },
    {
      "cell_type": "code",
      "metadata": {
        "id": "vCgcaJYSK-pF"
      },
      "source": [
        "nifty = pd.read_csv('nifty.csv', index_col=0).iloc[:, 0]"
      ],
      "execution_count": 4,
      "outputs": []
    },
    {
      "cell_type": "code",
      "metadata": {
        "colab": {
          "base_uri": "https://localhost:8080/"
        },
        "id": "ugKVZJTrLIHu",
        "outputId": "c3bac04e-6408-4065-c427-7cb5330e8503"
      },
      "source": [
        "nifty_df = pd.read_csv('nifty.csv')\n",
        "type(nifty_df)"
      ],
      "execution_count": 6,
      "outputs": [
        {
          "output_type": "execute_result",
          "data": {
            "text/plain": [
              "pandas.core.frame.DataFrame"
            ]
          },
          "metadata": {
            "tags": []
          },
          "execution_count": 6
        }
      ]
    },
    {
      "cell_type": "code",
      "metadata": {
        "colab": {
          "base_uri": "https://localhost:8080/"
        },
        "id": "snS3jkwcLPwd",
        "outputId": "2ab93e52-e37d-403b-ab36-a203e4d63b6e"
      },
      "source": [
        "nifty"
      ],
      "execution_count": 7,
      "outputs": [
        {
          "output_type": "execute_result",
          "data": {
            "text/plain": [
              "Date\n",
              "01-Jan-2019    10910.10\n",
              "02-Jan-2019    10792.50\n",
              "03-Jan-2019    10672.25\n",
              "04-Jan-2019    10727.35\n",
              "07-Jan-2019    10771.80\n",
              "                 ...   \n",
              "24-Dec-2019    12214.55\n",
              "26-Dec-2019    12126.55\n",
              "27-Dec-2019    12245.80\n",
              "30-Dec-2019    12255.85\n",
              "31-Dec-2019    12168.45\n",
              "Name: Close, Length: 245, dtype: float64"
            ]
          },
          "metadata": {
            "tags": []
          },
          "execution_count": 7
        }
      ]
    },
    {
      "cell_type": "code",
      "metadata": {
        "colab": {
          "base_uri": "https://localhost:8080/"
        },
        "id": "ghNNvUMGLVMx",
        "outputId": "8b39801f-2d4a-411e-d6d9-595612a96c69"
      },
      "source": [
        "nifty.head()"
      ],
      "execution_count": 8,
      "outputs": [
        {
          "output_type": "execute_result",
          "data": {
            "text/plain": [
              "Date\n",
              "01-Jan-2019    10910.10\n",
              "02-Jan-2019    10792.50\n",
              "03-Jan-2019    10672.25\n",
              "04-Jan-2019    10727.35\n",
              "07-Jan-2019    10771.80\n",
              "Name: Close, dtype: float64"
            ]
          },
          "metadata": {
            "tags": []
          },
          "execution_count": 8
        }
      ]
    },
    {
      "cell_type": "code",
      "metadata": {
        "colab": {
          "base_uri": "https://localhost:8080/"
        },
        "id": "TIMrXLyuLXAA",
        "outputId": "865cc3f3-82ae-4342-e074-5c99969fb32a"
      },
      "source": [
        "nifty.head(10)"
      ],
      "execution_count": 9,
      "outputs": [
        {
          "output_type": "execute_result",
          "data": {
            "text/plain": [
              "Date\n",
              "01-Jan-2019    10910.10\n",
              "02-Jan-2019    10792.50\n",
              "03-Jan-2019    10672.25\n",
              "04-Jan-2019    10727.35\n",
              "07-Jan-2019    10771.80\n",
              "08-Jan-2019    10802.15\n",
              "09-Jan-2019    10855.15\n",
              "10-Jan-2019    10821.60\n",
              "11-Jan-2019    10794.95\n",
              "14-Jan-2019    10737.60\n",
              "Name: Close, dtype: float64"
            ]
          },
          "metadata": {
            "tags": []
          },
          "execution_count": 9
        }
      ]
    },
    {
      "cell_type": "code",
      "metadata": {
        "colab": {
          "base_uri": "https://localhost:8080/"
        },
        "id": "rSnbtopqLZMz",
        "outputId": "d68d815b-fc90-4ddf-8cb5-39cb6b53effc"
      },
      "source": [
        "nifty.tail()"
      ],
      "execution_count": 10,
      "outputs": [
        {
          "output_type": "execute_result",
          "data": {
            "text/plain": [
              "Date\n",
              "24-Dec-2019    12214.55\n",
              "26-Dec-2019    12126.55\n",
              "27-Dec-2019    12245.80\n",
              "30-Dec-2019    12255.85\n",
              "31-Dec-2019    12168.45\n",
              "Name: Close, dtype: float64"
            ]
          },
          "metadata": {
            "tags": []
          },
          "execution_count": 10
        }
      ]
    },
    {
      "cell_type": "code",
      "metadata": {
        "colab": {
          "base_uri": "https://localhost:8080/"
        },
        "id": "ufS-UTZTLa_Z",
        "outputId": "b198b504-029f-4721-baab-510db23da238"
      },
      "source": [
        "nifty.tail(10)"
      ],
      "execution_count": 11,
      "outputs": [
        {
          "output_type": "execute_result",
          "data": {
            "text/plain": [
              "Date\n",
              "17-Dec-2019    12165.00\n",
              "18-Dec-2019    12221.65\n",
              "19-Dec-2019    12259.70\n",
              "20-Dec-2019    12271.80\n",
              "23-Dec-2019    12262.75\n",
              "24-Dec-2019    12214.55\n",
              "26-Dec-2019    12126.55\n",
              "27-Dec-2019    12245.80\n",
              "30-Dec-2019    12255.85\n",
              "31-Dec-2019    12168.45\n",
              "Name: Close, dtype: float64"
            ]
          },
          "metadata": {
            "tags": []
          },
          "execution_count": 11
        }
      ]
    },
    {
      "cell_type": "code",
      "metadata": {
        "colab": {
          "base_uri": "https://localhost:8080/"
        },
        "id": "lfiwyfdTLdDk",
        "outputId": "2af04636-2aff-43a3-bd16-e5dd2359c548"
      },
      "source": [
        "np.mean(nifty)\n"
      ],
      "execution_count": 12,
      "outputs": [
        {
          "output_type": "execute_result",
          "data": {
            "text/plain": [
              "11432.632244897959"
            ]
          },
          "metadata": {
            "tags": []
          },
          "execution_count": 12
        }
      ]
    },
    {
      "cell_type": "code",
      "metadata": {
        "colab": {
          "base_uri": "https://localhost:8080/"
        },
        "id": "z1UwAG_YLfOL",
        "outputId": "f93927cd-232f-4b69-8066-352c437b0358"
      },
      "source": [
        "type(nifty)"
      ],
      "execution_count": 13,
      "outputs": [
        {
          "output_type": "execute_result",
          "data": {
            "text/plain": [
              "pandas.core.series.Series"
            ]
          },
          "metadata": {
            "tags": []
          },
          "execution_count": 13
        }
      ]
    },
    {
      "cell_type": "code",
      "metadata": {
        "colab": {
          "base_uri": "https://localhost:8080/"
        },
        "id": "jMZNKSsULg5s",
        "outputId": "daca69bd-e61f-42ab-98e1-4cc752d62812"
      },
      "source": [
        "np.median(nifty)"
      ],
      "execution_count": 14,
      "outputs": [
        {
          "output_type": "execute_result",
          "data": {
            "text/plain": [
              "11512.4"
            ]
          },
          "metadata": {
            "tags": []
          },
          "execution_count": 14
        }
      ]
    },
    {
      "cell_type": "markdown",
      "metadata": {
        "id": "xxr2qP7ELrPH"
      },
      "source": [
        "# Question: How many days did the markets close higher than the previous day's close."
      ]
    },
    {
      "cell_type": "code",
      "metadata": {
        "colab": {
          "base_uri": "https://localhost:8080/"
        },
        "id": "0msO7RTiLi84",
        "outputId": "e08dbafa-67b7-46b2-c5b9-950f4b69fc22"
      },
      "source": [
        "nifty[0]"
      ],
      "execution_count": 15,
      "outputs": [
        {
          "output_type": "execute_result",
          "data": {
            "text/plain": [
              "10910.1"
            ]
          },
          "metadata": {
            "tags": []
          },
          "execution_count": 15
        }
      ]
    },
    {
      "cell_type": "code",
      "metadata": {
        "colab": {
          "base_uri": "https://localhost:8080/"
        },
        "id": "7HHF0SDELwLC",
        "outputId": "9a1d157e-a6c7-45e7-9113-784b72015237"
      },
      "source": [
        "nifty[1]"
      ],
      "execution_count": 16,
      "outputs": [
        {
          "output_type": "execute_result",
          "data": {
            "text/plain": [
              "10792.5"
            ]
          },
          "metadata": {
            "tags": []
          },
          "execution_count": 16
        }
      ]
    },
    {
      "cell_type": "code",
      "metadata": {
        "colab": {
          "base_uri": "https://localhost:8080/"
        },
        "id": "hClnyIzyLxrq",
        "outputId": "d1335ce3-f38c-47df-8164-7d71cca100f8"
      },
      "source": [
        "nifty[1] - nifty[0]"
      ],
      "execution_count": 17,
      "outputs": [
        {
          "output_type": "execute_result",
          "data": {
            "text/plain": [
              "-117.60000000000036"
            ]
          },
          "metadata": {
            "tags": []
          },
          "execution_count": 17
        }
      ]
    },
    {
      "cell_type": "code",
      "metadata": {
        "colab": {
          "base_uri": "https://localhost:8080/"
        },
        "id": "6WrJxWdLLzub",
        "outputId": "41d4a21b-3b89-4d3c-bcca-bd0f4d8d6e62"
      },
      "source": [
        "nifty[1:]"
      ],
      "execution_count": 18,
      "outputs": [
        {
          "output_type": "execute_result",
          "data": {
            "text/plain": [
              "Date\n",
              "02-Jan-2019    10792.50\n",
              "03-Jan-2019    10672.25\n",
              "04-Jan-2019    10727.35\n",
              "07-Jan-2019    10771.80\n",
              "08-Jan-2019    10802.15\n",
              "                 ...   \n",
              "24-Dec-2019    12214.55\n",
              "26-Dec-2019    12126.55\n",
              "27-Dec-2019    12245.80\n",
              "30-Dec-2019    12255.85\n",
              "31-Dec-2019    12168.45\n",
              "Name: Close, Length: 244, dtype: float64"
            ]
          },
          "metadata": {
            "tags": []
          },
          "execution_count": 18
        }
      ]
    },
    {
      "cell_type": "code",
      "metadata": {
        "colab": {
          "base_uri": "https://localhost:8080/"
        },
        "id": "68QzGpZdL1lG",
        "outputId": "7cee70a7-fd5e-4038-924c-d2e7737369e9"
      },
      "source": [
        "nifty[:-1]"
      ],
      "execution_count": 19,
      "outputs": [
        {
          "output_type": "execute_result",
          "data": {
            "text/plain": [
              "Date\n",
              "01-Jan-2019    10910.10\n",
              "02-Jan-2019    10792.50\n",
              "03-Jan-2019    10672.25\n",
              "04-Jan-2019    10727.35\n",
              "07-Jan-2019    10771.80\n",
              "                 ...   \n",
              "23-Dec-2019    12262.75\n",
              "24-Dec-2019    12214.55\n",
              "26-Dec-2019    12126.55\n",
              "27-Dec-2019    12245.80\n",
              "30-Dec-2019    12255.85\n",
              "Name: Close, Length: 244, dtype: float64"
            ]
          },
          "metadata": {
            "tags": []
          },
          "execution_count": 19
        }
      ]
    },
    {
      "cell_type": "code",
      "metadata": {
        "colab": {
          "base_uri": "https://localhost:8080/"
        },
        "id": "EC7YTa_lL3bg",
        "outputId": "91d921da-4d2f-43d3-df0a-4d7aa67224c4"
      },
      "source": [
        "nifty[1:] - nifty[:-1]"
      ],
      "execution_count": 20,
      "outputs": [
        {
          "output_type": "execute_result",
          "data": {
            "text/plain": [
              "Date\n",
              "01-Apr-2019    0.0\n",
              "01-Aug-2019    0.0\n",
              "01-Feb-2019    0.0\n",
              "01-Jan-2019    NaN\n",
              "01-Jul-2019    0.0\n",
              "              ... \n",
              "31-Dec-2019    NaN\n",
              "31-Jan-2019    0.0\n",
              "31-Jul-2019    0.0\n",
              "31-May-2019    0.0\n",
              "31-Oct-2019    0.0\n",
              "Name: Close, Length: 245, dtype: float64"
            ]
          },
          "metadata": {
            "tags": []
          },
          "execution_count": 20
        }
      ]
    },
    {
      "cell_type": "code",
      "metadata": {
        "colab": {
          "base_uri": "https://localhost:8080/"
        },
        "id": "_qAfPLI8L5dU",
        "outputId": "b035e982-1a15-4eea-ffba-1732e4ec5862"
      },
      "source": [
        "nifty.values[1:] - nifty.values[:-1]"
      ],
      "execution_count": 21,
      "outputs": [
        {
          "output_type": "execute_result",
          "data": {
            "text/plain": [
              "array([-1.1760e+02, -1.2025e+02,  5.5100e+01,  4.4450e+01,  3.0350e+01,\n",
              "        5.3000e+01, -3.3550e+01, -2.6650e+01, -5.7350e+01,  1.4920e+02,\n",
              "        3.5000e+00,  1.4900e+01,  1.7500e+00,  5.4900e+01, -3.9100e+01,\n",
              "       -9.1250e+01,  1.8300e+01, -6.9250e+01, -1.1900e+02, -9.3500e+00,\n",
              "       -4.0000e-01,  1.7915e+02,  6.2700e+01,  1.8600e+01,  2.2100e+01,\n",
              "        1.2810e+02,  6.9500e+00, -1.2580e+02, -5.4800e+01, -5.7400e+01,\n",
              "       -3.7750e+01, -4.7600e+01, -2.1650e+01, -8.3450e+01, -3.6600e+01,\n",
              "        1.3110e+02,  5.4400e+01,  1.8000e+00,  8.8450e+01, -4.4800e+01,\n",
              "       -2.8650e+01, -1.4150e+01,  7.1000e+01,  1.2395e+02,  6.5550e+01,\n",
              "        5.2000e+00, -2.2800e+01,  1.3265e+02,  1.3315e+02,  4.0500e+01,\n",
              "        1.5500e+00,  8.3600e+01,  3.5350e+01,  7.0200e+01, -1.1350e+01,\n",
              "       -6.4150e+01, -1.0265e+02,  1.2900e+02, -3.8200e+01,  1.2495e+02,\n",
              "        5.3900e+01,  4.5250e+01,  4.4050e+01, -6.9250e+01, -4.5950e+01,\n",
              "        6.7950e+01, -6.1450e+01,  6.7450e+01, -8.7650e+01,  1.2400e+01,\n",
              "        4.6750e+01,  4.6900e+01,  9.6800e+01, -3.4350e+01, -1.5835e+02,\n",
              "       -1.8500e+01,  1.5020e+02, -8.4350e+01,  1.1285e+02, -6.5000e+00,\n",
              "       -2.3400e+01, -1.2500e+01, -1.1400e+02, -1.0035e+02, -1.3845e+02,\n",
              "       -5.7650e+01, -2.2900e+01, -1.3070e+02,  7.3850e+01, -6.5050e+01,\n",
              "        1.0010e+02,  1.5005e+02,  4.2110e+02, -1.1915e+02,  2.8800e+01,\n",
              "       -8.0850e+01,  1.8705e+02,  8.0650e+01,  4.0000e+00, -6.7650e+01,\n",
              "        8.4800e+01, -2.3100e+01,  1.6575e+02, -6.6900e+01, -1.7790e+02,\n",
              "        2.6900e+01,  5.2050e+01,  4.2900e+01, -5.9400e+01,  7.8500e+00,\n",
              "       -9.0750e+01, -1.5115e+02,  1.9350e+01, -5.0000e-02,  1.4030e+02,\n",
              "       -1.0765e+02, -2.4450e+01,  9.6800e+01,  5.1100e+01, -6.0000e+00,\n",
              "       -5.2700e+01,  7.6750e+01,  4.4700e+01,  6.4500e+00,  3.0000e+01,\n",
              "       -1.3560e+02, -2.5255e+02, -2.7000e+00, -5.7000e+01,  8.4000e+01,\n",
              "       -3.0400e+01,  3.5850e+01,  7.4250e+01,  2.4900e+01, -9.0600e+01,\n",
              "       -1.7765e+02, -7.3050e+01, -1.5150e+01, -5.9750e+01, -1.9150e+01,\n",
              "        3.2150e+01, -9.5100e+01, -1.0380e+02,  3.2600e+01, -1.3800e+02,\n",
              "        1.7350e+01, -1.3475e+02,  8.5650e+01, -9.2750e+01,  1.7695e+02,\n",
              "        7.7200e+01, -1.8380e+02,  1.0355e+02,  1.8400e+01,  6.1000e+00,\n",
              "       -3.6900e+01, -9.8300e+01, -1.7735e+02,  8.8000e+01,  2.2850e+02,\n",
              "        4.7500e+01, -5.9250e+01, -9.7800e+01,  7.4950e+01, -2.2535e+02,\n",
              "        4.6750e+01,  3.2500e+00,  9.8300e+01,  5.6850e+01,  3.2650e+01,\n",
              "       -5.2900e+01,  9.3100e+01, -7.2400e+01, -1.8590e+02,  2.3050e+01,\n",
              "       -1.3585e+02,  5.6940e+02,  3.2600e+02, -1.2000e+01, -1.4800e+02,\n",
              "        1.3100e+02, -5.8800e+01, -3.7950e+01, -1.1455e+02, -4.5900e+01,\n",
              "       -1.3925e+02, -4.8350e+01,  1.8690e+02, -7.8750e+01,  7.0500e+01,\n",
              "        3.6100e+01,  8.7150e+01,  3.5700e+01,  1.2235e+02,  7.5500e+01,\n",
              "       -7.3500e+01,  1.5750e+01, -2.1500e+01,  1.3000e+00,  4.3250e+01,\n",
              "        1.5970e+02,  5.7250e+01,  3.3350e+01,  1.3150e+01,  5.0700e+01,\n",
              "       -2.4100e+01,  4.8850e+01,  4.6000e+01, -1.0390e+02,  5.3000e+00,\n",
              "       -7.3000e+01,  3.1650e+01,  2.3350e+01, -1.0950e+01,  5.5600e+01,\n",
              "        5.9000e+01, -3.0700e+01, -5.4000e+01,  1.5935e+02, -3.6050e+01,\n",
              "        6.3000e+01,  5.0450e+01, -9.5100e+01, -7.8500e+00, -5.4000e+01,\n",
              "        4.9000e+01, -2.4800e+01, -9.6900e+01,  1.6000e+01, -8.0700e+01,\n",
              "        5.3350e+01,  6.1650e+01,  1.1490e+02, -3.2750e+01,  1.1105e+02,\n",
              "        5.6650e+01,  3.8050e+01,  1.2100e+01, -9.0500e+00, -4.8200e+01,\n",
              "       -8.8000e+01,  1.1925e+02,  1.0050e+01, -8.7400e+01])"
            ]
          },
          "metadata": {
            "tags": []
          },
          "execution_count": 21
        }
      ]
    },
    {
      "cell_type": "code",
      "metadata": {
        "colab": {
          "base_uri": "https://localhost:8080/"
        },
        "id": "kP2tumXSL75k",
        "outputId": "ccfd146c-3db9-437a-f218-9a439843e96f"
      },
      "source": [
        "(nifty.values[1:] - nifty.values[:-1]) > 0"
      ],
      "execution_count": 22,
      "outputs": [
        {
          "output_type": "execute_result",
          "data": {
            "text/plain": [
              "array([False, False,  True,  True,  True,  True, False, False, False,\n",
              "        True,  True,  True,  True,  True, False, False,  True, False,\n",
              "       False, False, False,  True,  True,  True,  True,  True,  True,\n",
              "       False, False, False, False, False, False, False, False,  True,\n",
              "        True,  True,  True, False, False, False,  True,  True,  True,\n",
              "        True, False,  True,  True,  True,  True,  True,  True,  True,\n",
              "       False, False, False,  True, False,  True,  True,  True,  True,\n",
              "       False, False,  True, False,  True, False,  True,  True,  True,\n",
              "        True, False, False, False,  True, False,  True, False, False,\n",
              "       False, False, False, False, False, False, False,  True, False,\n",
              "        True,  True,  True, False,  True, False,  True,  True,  True,\n",
              "       False,  True, False,  True, False, False,  True,  True,  True,\n",
              "       False,  True, False, False,  True, False,  True, False, False,\n",
              "        True,  True, False, False,  True,  True,  True,  True, False,\n",
              "       False, False, False,  True, False,  True,  True,  True, False,\n",
              "       False, False, False, False, False,  True, False, False,  True,\n",
              "       False,  True, False,  True, False,  True,  True, False,  True,\n",
              "        True,  True, False, False, False,  True,  True,  True, False,\n",
              "       False,  True, False,  True,  True,  True,  True,  True, False,\n",
              "        True, False, False,  True, False,  True,  True, False, False,\n",
              "        True, False, False, False, False, False, False,  True, False,\n",
              "        True,  True,  True,  True,  True,  True, False,  True, False,\n",
              "        True,  True,  True,  True,  True,  True,  True, False,  True,\n",
              "        True, False,  True, False,  True,  True, False,  True,  True,\n",
              "       False, False,  True, False,  True,  True, False, False, False,\n",
              "        True, False, False,  True, False,  True,  True,  True, False,\n",
              "        True,  True,  True,  True, False, False, False,  True,  True,\n",
              "       False])"
            ]
          },
          "metadata": {
            "tags": []
          },
          "execution_count": 22
        }
      ]
    },
    {
      "cell_type": "code",
      "metadata": {
        "id": "n-wjOVgML_ID",
        "outputId": "a5de47b3-38b0-4cf4-c302-39a781d19b3e",
        "colab": {
          "base_uri": "https://localhost:8080/"
        }
      },
      "source": [
        "np.sum((nifty.values[1:] - nifty.values[:-1]) > 0)"
      ],
      "execution_count": 23,
      "outputs": [
        {
          "output_type": "execute_result",
          "data": {
            "text/plain": [
              "129"
            ]
          },
          "metadata": {
            "tags": []
          },
          "execution_count": 23
        }
      ]
    },
    {
      "cell_type": "code",
      "metadata": {
        "id": "ySd27SJrMBnk"
      },
      "source": [
        ""
      ],
      "execution_count": null,
      "outputs": []
    }
  ]
}