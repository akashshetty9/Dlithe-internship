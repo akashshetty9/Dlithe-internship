{
  "nbformat": 4,
  "nbformat_minor": 0,
  "metadata": {
    "colab": {
      "name": "Untitled19.ipynb",
      "provenance": []
    },
    "kernelspec": {
      "name": "python3",
      "display_name": "Python 3"
    },
    "language_info": {
      "name": "python"
    }
  },
  "cells": [
    {
      "cell_type": "code",
      "metadata": {
        "id": "MikuTU86gBoP"
      },
      "source": [
        "def input_single_integer(prompt):\n",
        "  ret=int(input(prompt))\n",
        "  return ret\n",
        "\n",
        "def input_single_float(prompt):\n",
        "  ret= float(input(prompt))\n",
        "  return ret"
      ],
      "execution_count": 1,
      "outputs": []
    },
    {
      "cell_type": "code",
      "metadata": {
        "colab": {
          "base_uri": "https://localhost:8080/"
        },
        "id": "mx0SOf0pgCu7",
        "outputId": "8525e101-cd31-4dfa-8070-6582089a5d5a"
      },
      "source": [
        "# prompt the user about the weight\n",
        "weight = input_single_float(\"Enter your weight (in kgs)\")\n",
        "height_unit = input(\"what is your preferred unit of height\")\n",
        "\n",
        "if height_unit =='F':\n",
        "  print(\"I am in F block\")\n",
        "  feet =input_single_integer(\"Ebter feet and inches. Lets start with feet\")\n",
        "  inches=input_single_integer(\"Now enter inches\")\n",
        "  meters=(feet+inches/12)*0.3048\n",
        "\n",
        "else:\n",
        "  print(\"I am in M Block\")\n",
        "  meters=input_single_float(\"Please enter your height in meters\")\n",
        "\n",
        "height=meters\n",
        "bmi=weight/height ** 2\n",
        "print(\"My bmi value is\",str(bmi))\n",
        "\n",
        "if bmi<18.5:\n",
        "  print(\"UNDERWEIGHT\")\n",
        "elif bmi<25:\n",
        "  print(\"NORMAL\")\n",
        "elif bmi<30:\n",
        "  print(\"OVERWEIGHT\")\n",
        "else:\n",
        "  print(\"Very OVERWEIGHT\")\n"
      ],
      "execution_count": 2,
      "outputs": [
        {
          "output_type": "stream",
          "text": [
            "Enter your weight (in kgs)46\n",
            "what is your preferred unit of height89\n",
            "I am in M Block\n",
            "Please enter your height in meters8\n",
            "My bmi value is 0.71875\n",
            "UNDERWEIGHT\n"
          ],
          "name": "stdout"
        }
      ]
    },
    {
      "cell_type": "code",
      "metadata": {
        "id": "OFLaft_jgHKE"
      },
      "source": [
        ""
      ],
      "execution_count": null,
      "outputs": []
    }
  ]
}